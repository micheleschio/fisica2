{
 "cells": [
  {
   "cell_type": "markdown",
   "metadata": {},
   "source": [
    "# Volt-Amerometrica (II turno) \n",
    "\n",
    "Componenti del gruppo:\n",
    "\n",
    "* De Marchi Nicola \n",
    "* Schio Michele 1141482\n",
    "\n",
    "**Premessa**\n",
    "\n",
    "Nel seguito verrà utilizzata la funzione `scipy.optimyze.curve_fit()` per stimare i parametri delle relazioni funzionale. Questo metodo implementa la regressione ai minimi quadrati insenso classico e restituisce, oltre ai parametri richiesti, la matrice delle covarianze in cui la diagonale contiene i valori della varianza dei parametri stimati.\n",
    "\n",
    "per la gestione dei dati verrà utilizzata la librearia `pandas`, per i calcoli e la rappresenzione verranno utilizzati `numpy` e `matplotlib.pyplot` rispettivamente.\n"
   ]
  },
  {
   "cell_type": "code",
   "execution_count": 1,
   "metadata": {},
   "outputs": [],
   "source": [
    "import numpy as np\n",
    "import pandas as pd\n",
    "import matplotlib.pyplot as plt\n",
    "from scipy.optimize import curve_fit\n",
    "from scipy.constants import epsilon_0 as e0 \n"
   ]
  },
  {
   "cell_type": "markdown",
   "metadata": {},
   "source": [
    "# appunti\n",
    "\n",
    "* "
   ]
  },
  {
   "cell_type": "markdown",
   "metadata": {},
   "source": [
    "## Risultati prima parte\n",
    "\n"
   ]
  },
  {
   "cell_type": "code",
   "execution_count": null,
   "metadata": {},
   "outputs": [],
   "source": []
  },
  {
   "cell_type": "markdown",
   "metadata": {},
   "source": [
    "## Interpretazione e commenti prima parte\n"
   ]
  },
  {
   "cell_type": "code",
   "execution_count": null,
   "metadata": {},
   "outputs": [],
   "source": []
  },
  {
   "cell_type": "markdown",
   "metadata": {},
   "source": [
    "## Risultati seconda parte \n",
    "\n"
   ]
  },
  {
   "cell_type": "code",
   "execution_count": null,
   "metadata": {
    "scrolled": true
   },
   "outputs": [],
   "source": []
  },
  {
   "cell_type": "markdown",
   "metadata": {},
   "source": [
    "## Interpretazione e commenti terza parte\n",
    "\n"
   ]
  },
  {
   "cell_type": "code",
   "execution_count": null,
   "metadata": {},
   "outputs": [],
   "source": []
  },
  {
   "cell_type": "markdown",
   "metadata": {},
   "source": [
    "# Conclusioni\n"
   ]
  },
  {
   "cell_type": "markdown",
   "metadata": {},
   "source": [
    "# Bibliografia\n",
    "* Fisica in laborario Esculapio"
   ]
  },
  {
   "cell_type": "code",
   "execution_count": 2,
   "metadata": {},
   "outputs": [
    {
     "data": {
      "application/json": {
       "Software versions": [
        {
         "module": "Python",
         "version": "3.5.3 64bit [GCC 6.3.0 20170118]"
        },
        {
         "module": "IPython",
         "version": "6.2.1"
        },
        {
         "module": "OS",
         "version": "Linux 4.9.0 4 amd64 x86_64 with debian 9.2"
        },
        {
         "module": "numpy",
         "version": "1.12.1"
        },
        {
         "module": "scipy",
         "version": "0.18.1"
        },
        {
         "module": "matplotlib",
         "version": "2.0.0"
        },
        {
         "module": "version_information",
         "version": "1.0.3"
        }
       ]
      },
      "text/html": [
       "<table><tr><th>Software</th><th>Version</th></tr><tr><td>Python</td><td>3.5.3 64bit [GCC 6.3.0 20170118]</td></tr><tr><td>IPython</td><td>6.2.1</td></tr><tr><td>OS</td><td>Linux 4.9.0 4 amd64 x86_64 with debian 9.2</td></tr><tr><td>numpy</td><td>1.12.1</td></tr><tr><td>scipy</td><td>0.18.1</td></tr><tr><td>matplotlib</td><td>2.0.0</td></tr><tr><td>version_information</td><td>1.0.3</td></tr><tr><td colspan='2'>Fri Nov 24 17:59:40 2017 CET</td></tr></table>"
      ],
      "text/latex": [
       "\\begin{tabular}{|l|l|}\\hline\n",
       "{\\bf Software} & {\\bf Version} \\\\ \\hline\\hline\n",
       "Python & 3.5.3 64bit [GCC 6.3.0 20170118] \\\\ \\hline\n",
       "IPython & 6.2.1 \\\\ \\hline\n",
       "OS & Linux 4.9.0 4 amd64 x86\\_64 with debian 9.2 \\\\ \\hline\n",
       "numpy & 1.12.1 \\\\ \\hline\n",
       "scipy & 0.18.1 \\\\ \\hline\n",
       "matplotlib & 2.0.0 \\\\ \\hline\n",
       "version_information & 1.0.3 \\\\ \\hline\n",
       "\\hline \\multicolumn{2}{|l|}{Fri Nov 24 17:59:40 2017 CET} \\\\ \\hline\n",
       "\\end{tabular}\n"
      ],
      "text/plain": [
       "Software versions\n",
       "Python 3.5.3 64bit [GCC 6.3.0 20170118]\n",
       "IPython 6.2.1\n",
       "OS Linux 4.9.0 4 amd64 x86_64 with debian 9.2\n",
       "numpy 1.12.1\n",
       "scipy 0.18.1\n",
       "matplotlib 2.0.0\n",
       "version_information 1.0.3\n",
       "Fri Nov 24 17:59:40 2017 CET"
      ]
     },
     "execution_count": 2,
     "metadata": {},
     "output_type": "execute_result"
    }
   ],
   "source": [
    "%load_ext version_information\n",
    "%version_information numpy, scipy, matplotlib, version_information"
   ]
  }
 ],
 "metadata": {
  "kernelspec": {
   "display_name": "Python 3",
   "language": "python",
   "name": "python3"
  },
  "language_info": {
   "codemirror_mode": {
    "name": "ipython",
    "version": 3
   },
   "file_extension": ".py",
   "mimetype": "text/x-python",
   "name": "python",
   "nbconvert_exporter": "python",
   "pygments_lexer": "ipython3",
   "version": "3.5.3"
  }
 },
 "nbformat": 4,
 "nbformat_minor": 2
}
